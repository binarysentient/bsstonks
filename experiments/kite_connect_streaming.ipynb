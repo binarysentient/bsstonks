{
 "cells": [
  {
   "cell_type": "code",
   "execution_count": 1,
   "id": "7ba2f736",
   "metadata": {
    "scrolled": true
   },
   "outputs": [
    {
     "name": "stdout",
     "output_type": "stream",
     "text": [
      "Requirement already up-to-date: kiteconnect in c:\\users\\nisha\\miniconda3\\lib\\site-packages (3.9.4)\n",
      "Requirement already satisfied, skipping upgrade: six>=1.11.0 in c:\\users\\nisha\\miniconda3\\lib\\site-packages (from kiteconnect) (1.15.0)\n",
      "Requirement already satisfied, skipping upgrade: autobahn[twisted]==19.11.2 in c:\\users\\nisha\\miniconda3\\lib\\site-packages (from kiteconnect) (19.11.2)\n",
      "Requirement already satisfied, skipping upgrade: service-identity>=18.1.0 in c:\\users\\nisha\\miniconda3\\lib\\site-packages (from kiteconnect) (21.1.0)\n",
      "Requirement already satisfied, skipping upgrade: pyOpenSSL>=17.5.0 in c:\\users\\nisha\\miniconda3\\lib\\site-packages (from kiteconnect) (19.1.0)\n",
      "Requirement already satisfied, skipping upgrade: enum34>=1.1.6 in c:\\users\\nisha\\miniconda3\\lib\\site-packages (from kiteconnect) (1.1.10)\n",
      "Requirement already satisfied, skipping upgrade: pywin32; sys_platform == \"win32\" in c:\\users\\nisha\\miniconda3\\lib\\site-packages (from kiteconnect) (227)\n",
      "Requirement already satisfied, skipping upgrade: requests>=2.18.4 in c:\\users\\nisha\\miniconda3\\lib\\site-packages (from kiteconnect) (2.22.0)\n",
      "Requirement already satisfied, skipping upgrade: python-dateutil>=2.6.1 in c:\\users\\nisha\\miniconda3\\lib\\site-packages (from kiteconnect) (2.8.1)\n",
      "Requirement already satisfied, skipping upgrade: txaio>=18.8.1 in c:\\users\\nisha\\miniconda3\\lib\\site-packages (from autobahn[twisted]==19.11.2->kiteconnect) (21.2.1)\n",
      "Requirement already satisfied, skipping upgrade: cryptography>=2.7 in c:\\users\\nisha\\miniconda3\\lib\\site-packages (from autobahn[twisted]==19.11.2->kiteconnect) (2.8)\n",
      "Requirement already satisfied, skipping upgrade: Twisted>=12.1.0; extra == \"twisted\" in c:\\users\\nisha\\miniconda3\\lib\\site-packages (from autobahn[twisted]==19.11.2->kiteconnect) (21.2.0)\n",
      "Requirement already satisfied, skipping upgrade: zope.interface>=3.6.0; extra == \"twisted\" in c:\\users\\nisha\\miniconda3\\lib\\site-packages (from autobahn[twisted]==19.11.2->kiteconnect) (5.4.0)\n",
      "Requirement already satisfied, skipping upgrade: attrs>=19.1.0 in c:\\users\\nisha\\miniconda3\\lib\\site-packages (from service-identity>=18.1.0->kiteconnect) (21.2.0)\n",
      "Requirement already satisfied, skipping upgrade: pyasn1 in c:\\users\\nisha\\miniconda3\\lib\\site-packages (from service-identity>=18.1.0->kiteconnect) (0.4.8)\n",
      "Requirement already satisfied, skipping upgrade: pyasn1-modules in c:\\users\\nisha\\miniconda3\\lib\\site-packages (from service-identity>=18.1.0->kiteconnect) (0.2.8)\n",
      "Requirement already satisfied, skipping upgrade: certifi>=2017.4.17 in c:\\users\\nisha\\miniconda3\\lib\\site-packages (from requests>=2.18.4->kiteconnect) (2019.11.28)\n",
      "Requirement already satisfied, skipping upgrade: urllib3!=1.25.0,!=1.25.1,<1.26,>=1.21.1 in c:\\users\\nisha\\miniconda3\\lib\\site-packages (from requests>=2.18.4->kiteconnect) (1.25.8)\n",
      "Requirement already satisfied, skipping upgrade: chardet<3.1.0,>=3.0.2 in c:\\users\\nisha\\miniconda3\\lib\\site-packages (from requests>=2.18.4->kiteconnect) (3.0.4)\n",
      "Requirement already satisfied, skipping upgrade: idna<2.9,>=2.5 in c:\\users\\nisha\\miniconda3\\lib\\site-packages (from requests>=2.18.4->kiteconnect) (2.8)\n",
      "Requirement already satisfied, skipping upgrade: cffi!=1.11.3,>=1.8 in c:\\users\\nisha\\miniconda3\\lib\\site-packages (from cryptography>=2.7->autobahn[twisted]==19.11.2->kiteconnect) (1.14.0)\n",
      "Requirement already satisfied, skipping upgrade: hyperlink>=17.1.1 in c:\\users\\nisha\\miniconda3\\lib\\site-packages (from Twisted>=12.1.0; extra == \"twisted\"->autobahn[twisted]==19.11.2->kiteconnect) (21.0.0)\n",
      "Requirement already satisfied, skipping upgrade: constantly>=15.1 in c:\\users\\nisha\\miniconda3\\lib\\site-packages (from Twisted>=12.1.0; extra == \"twisted\"->autobahn[twisted]==19.11.2->kiteconnect) (15.1.0)\n",
      "Requirement already satisfied, skipping upgrade: Automat>=0.8.0 in c:\\users\\nisha\\miniconda3\\lib\\site-packages (from Twisted>=12.1.0; extra == \"twisted\"->autobahn[twisted]==19.11.2->kiteconnect) (20.2.0)\n",
      "Requirement already satisfied, skipping upgrade: twisted-iocpsupport~=1.0.0; platform_system == \"Windows\" in c:\\users\\nisha\\miniconda3\\lib\\site-packages (from Twisted>=12.1.0; extra == \"twisted\"->autobahn[twisted]==19.11.2->kiteconnect) (1.0.1)\n",
      "Requirement already satisfied, skipping upgrade: incremental>=16.10.1 in c:\\users\\nisha\\miniconda3\\lib\\site-packages (from Twisted>=12.1.0; extra == \"twisted\"->autobahn[twisted]==19.11.2->kiteconnect) (21.3.0)\n",
      "Requirement already satisfied, skipping upgrade: setuptools in c:\\users\\nisha\\miniconda3\\lib\\site-packages (from zope.interface>=3.6.0; extra == \"twisted\"->autobahn[twisted]==19.11.2->kiteconnect) (45.2.0.post20200210)\n",
      "Requirement already satisfied, skipping upgrade: pycparser in c:\\users\\nisha\\miniconda3\\lib\\site-packages (from cffi!=1.11.3,>=1.8->cryptography>=2.7->autobahn[twisted]==19.11.2->kiteconnect) (2.19)\n",
      "Requirement already satisfied: python-dotenv in c:\\users\\nisha\\miniconda3\\lib\\site-packages (0.17.1)\n",
      "Requirement already satisfied: python-dateutil in c:\\users\\nisha\\miniconda3\\lib\\site-packages (2.8.1)\n",
      "Requirement already satisfied: six>=1.5 in c:\\users\\nisha\\miniconda3\\lib\\site-packages (from python-dateutil) (1.15.0)\n"
     ]
    }
   ],
   "source": [
    "!pip install --upgrade kiteconnect\n",
    "!pip install python-dotenv\n",
    "!pip install python-dateutil"
   ]
  },
  {
   "cell_type": "code",
   "execution_count": 2,
   "id": "b0615f38",
   "metadata": {},
   "outputs": [],
   "source": [
    "import logging\n",
    "import os\n",
    "from kiteconnect import KiteConnect\n",
    "import logging\n",
    "from kiteconnect import KiteTicker\n",
    "\n",
    "logging.basicConfig(level=logging.DEBUG)\n",
    "from dotenv import load_dotenv\n",
    "load_dotenv()\n",
    "import bs_threading\n",
    "import importlib\n",
    "import time\n",
    "from datetime import datetime, timedelta\n",
    "import dateutil\n",
    "import pandas as pd\n",
    "importlib.reload(bs_threading)\n",
    "from bs_threading import bs_threadify, bs_make_throttle_ready_func\n"
   ]
  },
  {
   "cell_type": "code",
   "execution_count": 4,
   "id": "d59eafd7",
   "metadata": {},
   "outputs": [],
   "source": [
    "KITE_CONNECT_API_KEY = os.getenv(\"KITE_CONNECT_API_KEY\")\n",
    "KITE_CONNECT_API_SECRET = os.getenv(\"KITE_CONNECT_API_SECRET\")"
   ]
  },
  {
   "cell_type": "code",
   "execution_count": 4,
   "id": "a2d66d52",
   "metadata": {},
   "outputs": [],
   "source": [
    "\n",
    "logging.basicConfig(level=logging.DEBUG)\n",
    "\n",
    "kite = KiteConnect(api_key=KITE_CONNECT_API_KEY)\n",
    "\n"
   ]
  },
  {
   "cell_type": "markdown",
   "id": "0404bd11",
   "metadata": {},
   "source": [
    "### Get the url based on your api key, which will have request token, this is in order to verify the app itself(bsstonks) is valid and it'll get redirected to the callback url"
   ]
  },
  {
   "cell_type": "code",
   "execution_count": 5,
   "id": "0ef00389",
   "metadata": {},
   "outputs": [
    {
     "data": {
      "text/plain": [
       "'https://kite.trade/connect/login?api_key=7e6nr4sfi674uleu&v=3'"
      ]
     },
     "execution_count": 5,
     "metadata": {},
     "output_type": "execute_result"
    }
   ],
   "source": [
    "kite.login_url()"
   ]
  },
  {
   "cell_type": "markdown",
   "id": "4e735c8d",
   "metadata": {},
   "source": [
    "### Given we have request token and redirected to our callback with it, our app is valid, but is the app in the hands/server of the right person or not? only API secret can verify that. \n",
    "### We'll pass that api secret with the request token to create a session which give us Access_token, to the rightful person that we are"
   ]
  },
  {
   "cell_type": "code",
   "execution_count": 6,
   "id": "ffca89df",
   "metadata": {},
   "outputs": [
    {
     "name": "stderr",
     "output_type": "stream",
     "text": [
      "DEBUG:urllib3.connectionpool:Starting new HTTPS connection (1): api.kite.trade:443\n",
      "DEBUG:urllib3.connectionpool:https://api.kite.trade:443 \"POST /session/token HTTP/1.1\" 200 None\n"
     ]
    },
    {
     "name": "stdout",
     "output_type": "stream",
     "text": [
      "THE TOKEN: RvEnBhwwtPktS1EinG3PNlPddlouLKNe\n"
     ]
    }
   ],
   "source": [
    "# Redirect the user to the login url obtained\n",
    "# from kite.login_url(), and receive the request_token\n",
    "# from the registered redirect url after the login flow.\n",
    "# Once you have the request_token, obtain the access_token\n",
    "# as follows.\n",
    "\n",
    "kite_session_data = kite.generate_session(\"puaTPBINCesLweOkxnKMKMWmdtIeNrCs\", api_secret=KITE_CONNECT_API_SECRET)\n",
    "print(\"THE TOKEN:\",kite_session_data[\"access_token\"])\n",
    "kite.set_access_token(kite_session_data[\"access_token\"])"
   ]
  },
  {
   "cell_type": "code",
   "execution_count": 5,
   "id": "756470fb",
   "metadata": {},
   "outputs": [],
   "source": [
    "kite.set_access_token(\"RvEnBhwwtPktS1EinG3PNlPddlouLKNe\")"
   ]
  },
  {
   "cell_type": "code",
   "execution_count": 10,
   "id": "fb571d37",
   "metadata": {
    "scrolled": true
   },
   "outputs": [
    {
     "name": "stderr",
     "output_type": "stream",
     "text": [
      "DEBUG:urllib3.connectionpool:Starting new HTTPS connection (1): api.kite.trade:443\n",
      "DEBUG:urllib3.connectionpool:https://api.kite.trade:443 \"GET /orders HTTP/1.1\" 200 None\n",
      "DEBUG:urllib3.connectionpool:Starting new HTTPS connection (1): api.kite.trade:443\n",
      "DEBUG:urllib3.connectionpool:https://api.kite.trade:443 \"GET /portfolio/holdings HTTP/1.1\" 200 None\n"
     ]
    },
    {
     "data": {
      "text/plain": [
       "[{'tradingsymbol': 'BHEL',\n",
       "  'exchange': 'NSE',\n",
       "  'instrument_token': 112129,\n",
       "  'isin': 'INE257A01026',\n",
       "  'product': 'CNC',\n",
       "  'price': 0,\n",
       "  'quantity': 250,\n",
       "  'used_quantity': 0,\n",
       "  't1_quantity': 0,\n",
       "  'realised_quantity': 250,\n",
       "  'authorised_quantity': 0,\n",
       "  'authorised_date': '2021-06-29 00:00:00',\n",
       "  'opening_quantity': 250,\n",
       "  'collateral_quantity': 0,\n",
       "  'collateral_type': '',\n",
       "  'discrepancy': False,\n",
       "  'average_price': 67.9,\n",
       "  'last_price': 65.7,\n",
       "  'close_price': 66.3,\n",
       "  'pnl': -550.0000000000007,\n",
       "  'day_change': -0.5999999999999943,\n",
       "  'day_change_percentage': -0.9049773755656023},\n",
       " {'tradingsymbol': 'MANGALAM',\n",
       "  'exchange': 'NSE',\n",
       "  'instrument_token': 3025153,\n",
       "  'isin': 'INE584F01014',\n",
       "  'product': 'CNC',\n",
       "  'price': 0,\n",
       "  'quantity': 1,\n",
       "  'used_quantity': 0,\n",
       "  't1_quantity': 0,\n",
       "  'realised_quantity': 1,\n",
       "  'authorised_quantity': 0,\n",
       "  'authorised_date': '2021-06-29 00:00:00',\n",
       "  'opening_quantity': 1,\n",
       "  'collateral_quantity': 0,\n",
       "  'collateral_type': '',\n",
       "  'discrepancy': False,\n",
       "  'average_price': 132.85,\n",
       "  'last_price': 141.05,\n",
       "  'close_price': 137.55,\n",
       "  'pnl': 8.200000000000017,\n",
       "  'day_change': 3.5,\n",
       "  'day_change_percentage': 2.5445292620865136}]"
      ]
     },
     "execution_count": 10,
     "metadata": {},
     "output_type": "execute_result"
    }
   ],
   "source": [
    "kite.orders()\n",
    "kite.holdings()"
   ]
  },
  {
   "cell_type": "code",
   "execution_count": 6,
   "id": "383074a6",
   "metadata": {},
   "outputs": [
    {
     "ename": "ReactorNotRestartable",
     "evalue": "",
     "output_type": "error",
     "traceback": [
      "\u001b[1;31m---------------------------------------------------------------------------\u001b[0m",
      "\u001b[1;31mReactorNotRestartable\u001b[0m                     Traceback (most recent call last)",
      "\u001b[1;32m<ipython-input-6-f37ad451e12d>\u001b[0m in \u001b[0;36m<module>\u001b[1;34m\u001b[0m\n\u001b[0;32m     26\u001b[0m \u001b[1;31m# Infinite loop on the main thread. Nothing after this will run.\u001b[0m\u001b[1;33m\u001b[0m\u001b[1;33m\u001b[0m\u001b[1;33m\u001b[0m\u001b[0m\n\u001b[0;32m     27\u001b[0m \u001b[1;31m# You have to use the pre-defined callbacks to manage subscriptions.\u001b[0m\u001b[1;33m\u001b[0m\u001b[1;33m\u001b[0m\u001b[1;33m\u001b[0m\u001b[0m\n\u001b[1;32m---> 28\u001b[1;33m \u001b[0mkws\u001b[0m\u001b[1;33m.\u001b[0m\u001b[0mconnect\u001b[0m\u001b[1;33m(\u001b[0m\u001b[1;33m)\u001b[0m\u001b[1;33m\u001b[0m\u001b[1;33m\u001b[0m\u001b[0m\n\u001b[0m",
      "\u001b[1;32mc:\\users\\nisha\\miniconda3\\lib\\site-packages\\kiteconnect\\ticker.py\u001b[0m in \u001b[0;36mconnect\u001b[1;34m(self, threaded, disable_ssl_verification, proxy)\u001b[0m\n\u001b[0;32m    530\u001b[0m                 \u001b[0mself\u001b[0m\u001b[1;33m.\u001b[0m\u001b[0mwebsocket_thread\u001b[0m\u001b[1;33m.\u001b[0m\u001b[0mstart\u001b[0m\u001b[1;33m(\u001b[0m\u001b[1;33m)\u001b[0m\u001b[1;33m\u001b[0m\u001b[1;33m\u001b[0m\u001b[0m\n\u001b[0;32m    531\u001b[0m             \u001b[1;32melse\u001b[0m\u001b[1;33m:\u001b[0m\u001b[1;33m\u001b[0m\u001b[1;33m\u001b[0m\u001b[0m\n\u001b[1;32m--> 532\u001b[1;33m                 \u001b[0mreactor\u001b[0m\u001b[1;33m.\u001b[0m\u001b[0mrun\u001b[0m\u001b[1;33m(\u001b[0m\u001b[1;33m**\u001b[0m\u001b[0mopts\u001b[0m\u001b[1;33m)\u001b[0m\u001b[1;33m\u001b[0m\u001b[1;33m\u001b[0m\u001b[0m\n\u001b[0m\u001b[0;32m    533\u001b[0m \u001b[1;33m\u001b[0m\u001b[0m\n\u001b[0;32m    534\u001b[0m     \u001b[1;32mdef\u001b[0m \u001b[0mis_connected\u001b[0m\u001b[1;33m(\u001b[0m\u001b[0mself\u001b[0m\u001b[1;33m)\u001b[0m\u001b[1;33m:\u001b[0m\u001b[1;33m\u001b[0m\u001b[1;33m\u001b[0m\u001b[0m\n",
      "\u001b[1;32mc:\\users\\nisha\\miniconda3\\lib\\site-packages\\twisted\\internet\\base.py\u001b[0m in \u001b[0;36mrun\u001b[1;34m(self, installSignalHandlers)\u001b[0m\n\u001b[0;32m   1420\u001b[0m \u001b[1;33m\u001b[0m\u001b[0m\n\u001b[0;32m   1421\u001b[0m     \u001b[1;32mdef\u001b[0m \u001b[0mrun\u001b[0m\u001b[1;33m(\u001b[0m\u001b[0mself\u001b[0m\u001b[1;33m,\u001b[0m \u001b[0minstallSignalHandlers\u001b[0m\u001b[1;33m:\u001b[0m \u001b[0mbool\u001b[0m \u001b[1;33m=\u001b[0m \u001b[1;32mTrue\u001b[0m\u001b[1;33m)\u001b[0m \u001b[1;33m->\u001b[0m \u001b[1;32mNone\u001b[0m\u001b[1;33m:\u001b[0m\u001b[1;33m\u001b[0m\u001b[1;33m\u001b[0m\u001b[0m\n\u001b[1;32m-> 1422\u001b[1;33m         \u001b[0mself\u001b[0m\u001b[1;33m.\u001b[0m\u001b[0mstartRunning\u001b[0m\u001b[1;33m(\u001b[0m\u001b[0minstallSignalHandlers\u001b[0m\u001b[1;33m=\u001b[0m\u001b[0minstallSignalHandlers\u001b[0m\u001b[1;33m)\u001b[0m\u001b[1;33m\u001b[0m\u001b[1;33m\u001b[0m\u001b[0m\n\u001b[0m\u001b[0;32m   1423\u001b[0m         \u001b[0mself\u001b[0m\u001b[1;33m.\u001b[0m\u001b[0mmainLoop\u001b[0m\u001b[1;33m(\u001b[0m\u001b[1;33m)\u001b[0m\u001b[1;33m\u001b[0m\u001b[1;33m\u001b[0m\u001b[0m\n\u001b[0;32m   1424\u001b[0m \u001b[1;33m\u001b[0m\u001b[0m\n",
      "\u001b[1;32mc:\\users\\nisha\\miniconda3\\lib\\site-packages\\twisted\\internet\\base.py\u001b[0m in \u001b[0;36mstartRunning\u001b[1;34m(self, installSignalHandlers)\u001b[0m\n\u001b[0;32m   1402\u001b[0m         \"\"\"\n\u001b[0;32m   1403\u001b[0m         \u001b[0mself\u001b[0m\u001b[1;33m.\u001b[0m\u001b[0m_installSignalHandlers\u001b[0m \u001b[1;33m=\u001b[0m \u001b[0minstallSignalHandlers\u001b[0m\u001b[1;33m\u001b[0m\u001b[1;33m\u001b[0m\u001b[0m\n\u001b[1;32m-> 1404\u001b[1;33m         \u001b[0mReactorBase\u001b[0m\u001b[1;33m.\u001b[0m\u001b[0mstartRunning\u001b[0m\u001b[1;33m(\u001b[0m\u001b[0mcast\u001b[0m\u001b[1;33m(\u001b[0m\u001b[0mReactorBase\u001b[0m\u001b[1;33m,\u001b[0m \u001b[0mself\u001b[0m\u001b[1;33m)\u001b[0m\u001b[1;33m)\u001b[0m\u001b[1;33m\u001b[0m\u001b[1;33m\u001b[0m\u001b[0m\n\u001b[0m\u001b[0;32m   1405\u001b[0m \u001b[1;33m\u001b[0m\u001b[0m\n\u001b[0;32m   1406\u001b[0m     \u001b[1;32mdef\u001b[0m \u001b[0m_reallyStartRunning\u001b[0m\u001b[1;33m(\u001b[0m\u001b[0mself\u001b[0m\u001b[1;33m)\u001b[0m \u001b[1;33m->\u001b[0m \u001b[1;32mNone\u001b[0m\u001b[1;33m:\u001b[0m\u001b[1;33m\u001b[0m\u001b[1;33m\u001b[0m\u001b[0m\n",
      "\u001b[1;32mc:\\users\\nisha\\miniconda3\\lib\\site-packages\\twisted\\internet\\base.py\u001b[0m in \u001b[0;36mstartRunning\u001b[1;34m(self)\u001b[0m\n\u001b[0;32m    841\u001b[0m             \u001b[1;32mraise\u001b[0m \u001b[0merror\u001b[0m\u001b[1;33m.\u001b[0m\u001b[0mReactorAlreadyRunning\u001b[0m\u001b[1;33m(\u001b[0m\u001b[1;33m)\u001b[0m\u001b[1;33m\u001b[0m\u001b[1;33m\u001b[0m\u001b[0m\n\u001b[0;32m    842\u001b[0m         \u001b[1;32mif\u001b[0m \u001b[0mself\u001b[0m\u001b[1;33m.\u001b[0m\u001b[0m_startedBefore\u001b[0m\u001b[1;33m:\u001b[0m\u001b[1;33m\u001b[0m\u001b[1;33m\u001b[0m\u001b[0m\n\u001b[1;32m--> 843\u001b[1;33m             \u001b[1;32mraise\u001b[0m \u001b[0merror\u001b[0m\u001b[1;33m.\u001b[0m\u001b[0mReactorNotRestartable\u001b[0m\u001b[1;33m(\u001b[0m\u001b[1;33m)\u001b[0m\u001b[1;33m\u001b[0m\u001b[1;33m\u001b[0m\u001b[0m\n\u001b[0m\u001b[0;32m    844\u001b[0m         \u001b[0mself\u001b[0m\u001b[1;33m.\u001b[0m\u001b[0m_started\u001b[0m \u001b[1;33m=\u001b[0m \u001b[1;32mTrue\u001b[0m\u001b[1;33m\u001b[0m\u001b[1;33m\u001b[0m\u001b[0m\n\u001b[0;32m    845\u001b[0m         \u001b[0mself\u001b[0m\u001b[1;33m.\u001b[0m\u001b[0m_stopped\u001b[0m \u001b[1;33m=\u001b[0m \u001b[1;32mFalse\u001b[0m\u001b[1;33m\u001b[0m\u001b[1;33m\u001b[0m\u001b[0m\n",
      "\u001b[1;31mReactorNotRestartable\u001b[0m: "
     ]
    }
   ],
   "source": [
    "# Initialise\n",
    "kws = KiteTicker(KITE_CONNECT_API_KEY, \"RvEnBhwwtPktS1EinG3PNlPddlouLKNe\")\n",
    "\n",
    "def on_ticks(ws, ticks):\n",
    "    # Callback to receive ticks.\n",
    "    logging.debug(\"Ticks: {}\".format(ticks))\n",
    "\n",
    "def on_connect(ws, response):\n",
    "    # Callback on successful connect.\n",
    "    # Subscribe to a list of instrument_tokens (RELIANCE and ACC here).\n",
    "    ws.subscribe([738561, 5633])\n",
    "\n",
    "    # Set RELIANCE to tick in `full` mode.\n",
    "    ws.set_mode(ws.MODE_FULL, [738561])\n",
    "\n",
    "def on_close(ws, code, reason):\n",
    "    # On connection close stop the event loop.\n",
    "    # Reconnection will not happen after executing `ws.stop()`\n",
    "    ws.stop()\n",
    "\n",
    "# Assign the callbacks.\n",
    "kws.on_ticks = on_ticks\n",
    "kws.on_connect = on_connect\n",
    "kws.on_close = on_close\n",
    "\n",
    "# Infinite loop on the main thread. Nothing after this will run.\n",
    "# You have to use the pre-defined callbacks to manage subscriptions.\n",
    "kws.connect()"
   ]
  }
 ],
 "metadata": {
  "kernelspec": {
   "display_name": "Python 3",
   "language": "python",
   "name": "python3"
  },
  "language_info": {
   "codemirror_mode": {
    "name": "ipython",
    "version": 3
   },
   "file_extension": ".py",
   "mimetype": "text/x-python",
   "name": "python",
   "nbconvert_exporter": "python",
   "pygments_lexer": "ipython3",
   "version": "3.7.6"
  }
 },
 "nbformat": 4,
 "nbformat_minor": 5
}
