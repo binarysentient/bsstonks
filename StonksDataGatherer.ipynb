{
 "cells": [
  {
   "cell_type": "markdown",
   "id": "9238c24e",
   "metadata": {},
   "source": [
    "## Combine the daily datasets\n",
    "- ### [Kaggle 1990 to 2020 dataset](https://www.kaggle.com/stoicstatic/india-stock-data-nse-1990-2020)\n",
    "- ### [Kaggle 2020 half+ to 2021 Q1 + Q2(half)](https://www.kaggle.com/unknovvnuser/nseindia-all-stocks)\n",
    "\n",
    "### We'll drop them into individual files where file names corrospond to Stock Symbol/Index Symbol\n",
    "\n",
    "### Once the file data is consolidates, we'll also use AlphaVantage/NSE or some api to fill the missing latest data"
   ]
  },
  {
   "cell_type": "code",
   "execution_count": 1,
   "id": "1ff64d2b",
   "metadata": {},
   "outputs": [],
   "source": [
    "import os\n",
    "import pandas as pd\n",
    "import dateutil\n",
    "from bs_threading import bs_threadify"
   ]
  },
  {
   "cell_type": "code",
   "execution_count": 3,
   "id": "554ea652",
   "metadata": {},
   "outputs": [
    {
     "name": "stdout",
     "output_type": "stream",
     "text": [
      "input\n",
      "input\\all_hist_data\n",
      "input\\kaggle daily NSE data\n",
      "input\\kaggle daily NSE data\\INDEX\n",
      "input\\kaggle daily NSE data\\SCRIPT\n",
      "input\\kaggle nseindia-all-stocks\n",
      "['archive.zip', 'combined.csv']\n",
      "['20MICRONS.csv', '21STCENMGM.csv', '3IINFOTECH.csv', '3MINDIA.csv', '3PLAND.csv', '5PAISA.csv', '63MOONS.csv', '8KMILES.csv', 'A2ZINFRA.csv', 'AAKASH.csv', 'AARON.csv', 'AARTIDRUGS.csv', 'AARTIIND.csv', 'AARTISURF.csv', 'AARVEEDEN.csv', 'AARVI.csv', 'AAVAS.csv', 'ABAN.csv', 'ABB.csv', 'ABBOTINDIA.csv', 'ABCAPITAL.csv', 'ABFRL.csv', 'ABMINTLTD.csv', 'ACC.csv', 'ACCELYA.csv', 'ACE.csv', 'ADANIENT.csv', 'ADANIGAS.csv', 'ADANIGREEN.csv', 'ADANIPORTS.csv', 'ADANIPOWER.csv', 'ADANITRANS.csv', 'ADFFOODS.csv', 'ADHUNIKIND.csv', 'ADL.csv', 'ADORWELD.csv', 'ADROITINFO.csv', 'ADSL.csv', 'ADVANIHOTR.csv', 'ADVENZYMES.csv', 'AEGISCHEM.csv', 'AFFLE.csv', 'AGARIND.csv', 'AGCNET.csv', 'AGRITECH.csv', 'AGROPHOS.csv', 'AHLEAST.csv', 'AHLUCONT.csv', 'AHLWEST.csv', 'AIAENG.csv', 'AIRAN.csv', 'AJANTPHARM.csv', 'AJMERA.csv', 'AKASH.csv', 'AKSHARCHEM.csv', 'AKSHOPTFBR.csv', 'AKZOINDIA.csv', 'ALANKIT.csv', 'ALBERTDAVD.csv', 'ALCHEM.csv', 'ALEMBICLTD.csv', 'ALICON.csv', 'ALKALI.csv', 'ALKEM.csv', 'ALKYLAMINE.csv', 'ALLCARGO.csv', 'ALLSEC.csv', 'ALMONDZ.csv', 'ALOKINDS.csv', 'ALPA.csv', 'ALPHAGEO.csv', 'ALPSINDUS.csv', 'AMARAJABAT.csv', 'AMBER.csv', 'AMBIKCO.csv', 'AMBUJACEM.csv', 'AMDIND.csv', 'AMJLAND.csv', 'AMRUTANJAN.csv', 'ANANTRAJ.csv', 'ANDHRACEMT.csv', 'ANDHRAPAP.csv', 'ANDHRSUGAR.csv', 'ANGELBRKG.csv', 'ANIKINDS.csv', 'ANKITMETAL.csv', 'ANSALAPI.csv', 'ANSALHSG.csv', 'ANUP.csv', 'APARINDS.csv', 'APCL.csv', 'APCOTEXIND.csv', 'APEX.csv', 'APLAPOLLO.csv', 'APLLTD.csv', 'APOLLO.csv', 'APOLLOHOSP.csv', 'APOLLOPIPE.csv', 'APOLLOTYRE.csv', 'APOLSINHOT.csv', 'APTECHT.csv', 'ARCHIDPLY.csv', 'ARCHIES.csv', 'ARCOTECH.csv', 'ARENTERP.csv', 'ARIES.csv', 'ARIHANT.csv', 'ARIHANTSUP.csv', 'ARMANFIN.csv', 'AROGRANITE.csv', 'ARROWGREEN.csv', 'ARSHIYA.csv', 'ARSSINFRA.csv', 'ARTEMISMED.csv', 'ARVIND.csv', 'ARVINDFASN.csv', 'ARVSMART.csv', 'ASAHIINDIA.csv', 'ASAHISONG.csv', 'ASAL.csv', 'ASALCBR.csv', 'ASHAPURMIN.csv', 'ASHIANA.csv', 'ASHIMASYN.csv', 'ASHOKA.csv', 'ASHOKLEY.csv', 'ASIANHOTNR.csv', 'ASIANPAINT.csv', 'ASIANTILES.csv', 'ASPINWALL.csv', 'ASTEC.csv', 'ASTERDM.csv', 'ASTRAL.csv', 'ASTRAMICRO.csv', 'ASTRAZEN.csv', 'ASTRON.csv', 'ATFL.csv', 'ATLANTA.csv', 'ATLASCYCLE.csv', 'ATUL.csv', 'ATULAUTO.csv', 'AUBANK.csv', 'AURIONPRO.csv', 'AUROPHARMA.csv', 'AUSOMENT.csv', 'AUTOAXLES.csv', 'AUTOIND.csv', 'AUTOLITIND.csv', 'AVADHSUGAR.csv', 'AVANTIFEED.csv', 'AVTNPL.csv', 'AXISBANK.csv', 'AXISCADES.csv', 'AYMSYNTEX.csv', 'BAFNAPH.csv', 'BAGFILMS.csv', 'BAJAJ-AUTO.csv', 'BAJAJCON.csv', 'BAJAJELEC.csv', 'BAJAJFINSV.csv', 'BAJAJHIND.csv', 'BAJAJHLDNG.csv', 'BAJFINANCE.csv', 'BALAJITELE.csv', 'BALAMINES.csv', 'BALAXI.csv', 'BALKRISHNA.csv', 'BALKRISIND.csv', 'BALLARPUR.csv', 'BALMLAWRIE.csv', 'BALPHARMA.csv', 'BALRAMCHIN.csv', 'BANARBEADS.csv', 'BANARISUG.csv', 'BANCOINDIA.csv', 'BANDHANBNK.csv', 'BANG.csv', 'BANKA.csv', 'BANKBARODA.csv', 'BANKINDIA.csv', 'BANSWRAS.csv', 'BARTRONICS.csv', 'BASF.csv', 'BASML.csv', 'BATAINDIA.csv', 'BAYERCROP.csv', 'BBL.csv', 'BBTC.csv', 'BCG.csv', 'BCP.csv', 'BDL.csv', 'BEARDSELL.csv', 'BEDMUTHA.csv', 'BEL.csv', 'BEML.csv', 'BEPL.csv', 'BERGEPAINT.csv', 'BFINVEST.csv', 'BFUTILITIE.csv', 'BGRENERGY.csv', 'BHAGERIA.csv', 'BHAGYANGR.csv', 'BHAGYAPROP.csv', 'BHANDARI.csv', 'BHARATFORG.csv', 'BHARATGEAR.csv', 'BHARATRAS.csv', 'BHARATWIRE.csv', 'BHARTIARTL.csv', 'BHEL.csv', 'BIGBLOC.csv', 'BIL.csv', 'BILENERGY.csv', 'BINDALAGRO.csv', 'BIOCON.csv', 'BIOFILCHEM.csv', 'BIRLACABLE.csv', 'BIRLACORPN.csv', 'BIRLAMONEY.csv', 'BIRLATYRE.csv', 'BKMINDST.csv', 'BLBLIMITED.csv', 'BLISSGVS.csv', 'BLKASHYAP.csv', 'BLS.csv', 'BLUECOAST.csv', 'BLUEDART.csv', 'BLUESTARCO.csv', 'BODALCHEM.csv', 'BOMDYEING.csv', 'BOROLTD.csv', 'BORORENEW.csv', 'BOSCHLTD.csv', 'BPCL.csv', 'BPL.csv', 'BRFL.csv', 'BRIGADE.csv', 'BRITANNIA.csv', 'BRNL.csv', 'BROOKS.csv', 'BSE.csv', 'BSELINFRA.csv', 'BSHSL.csv', 'BSL.csv', 'BSOFT.csv', 'BURNPUR.csv', 'BUTTERFLY.csv', 'BVCL.csv', 'BYKE.csv', 'CADILAHC.csv', 'CALSOFT.csv', 'CAMLINFINE.csv', 'CAMS.csv', 'CANBK.csv', 'CANDC.csv', 'CANFINHOME.csv', 'CANTABIL.csv', 'CAPACITE.csv', 'CAPLIPOINT.csv', 'CAPTRUST.csv', 'CARBORUNIV.csv', 'CAREERP.csv', 'CARERATING.csv', 'CASTEXTECH.csv', 'CASTROLIND.csv', 'CCCL.csv', 'CCHHL.csv', 'CCL.csv', 'CDSL.csv', 'CEATLTD.csv', 'CEBBCO.csv', 'CELEBRITY.csv', 'CENTENKA.csv', 'CENTEXT.csv', 'CENTRALBK.csv', 'CENTRUM.csv', 'CENTUM.csv', 'CENTURYPLY.csv', 'CENTURYTEX.csv', 'CERA.csv', 'CEREBRAINT.csv', 'CESC.csv', 'CESCVENT.csv', 'CGCL.csv', 'CGPOWER.csv', 'CHALET.csv', 'CHAMBLFERT.csv', 'CHEMBOND.csv', 'CHEMCON.csv', 'CHEMFAB.csv', 'CHENNPETRO.csv', 'CHOLAFIN.csv', 'CHOLAHLDNG.csv', 'CHROMATIC.csv', 'CIGNITITEC.csv', 'CINELINE.csv', 'CINEVISTA.csv', 'CIPLA.csv', 'CLEDUCATE.csv', 'CLNINDIA.csv', 'CMICABLES.csv', 'CNOVAPETRO.csv', 'COALINDIA.csv', 'COCHINSHIP.csv', 'COFORGE.csv', 'COLPAL.csv', 'COMPINFO.csv', 'COMPUSOFT.csv', 'CONCOR.csv', 'CONFIPET.csv', 'CONSOFINVT.csv', 'CONTROLPR.csv', 'CORALFINAC.csv', 'CORDSCABLE.csv', 'COROMANDEL.csv', 'COSMOFILMS.csv', 'COUNCODOS.csv', 'COX-KINGS.csv', 'CREATIVE.csv', 'CREATIVEYE.csv', 'CREDITACC.csv', 'CREST.csv', 'CRISIL.csv', 'CROMPTON.csv', 'CSBBANK.csv', 'CTE.csv', 'CUB.csv', 'CUBEXTUB.csv', 'CUMMINSIND.csv', 'CUPID.csv', 'CYBERTECH.csv', 'CYIENT.csv', 'DAAWAT.csv', 'DABUR.csv', 'DALBHARAT.csv', 'DALMIASUG.csv', 'DAMODARIND.csv', 'DATAMATICS.csv', 'DBCORP.csv', 'DBL.csv', 'DBREALTY.csv', 'DBSTOCKBRO.csv', 'DCAL.csv', 'DCBBANK.csv', 'DCM.csv', 'DCMFINSERV.csv', 'DCMNVL.csv', 'DCMSHRIRAM.csv', 'DCW.csv', 'DECCANCE.csv', 'DEEPAKFERT.csv', 'DEEPAKNTR.csv', 'DEEPENR.csv', 'DELTACORP.csv', 'DELTAMAGNT.csv', 'DEN.csv', 'DENORA.csv', 'DFMFOODS.csv', 'DGCONTENT.csv', 'DHAMPURSUG.csv', 'DHANBANK.csv', 'DHANI.csv', 'DHANUKA.csv', 'DHARSUGAR.csv', 'DHFL.csv', 'DHUNINV.csv', 'DIAMONDYD.csv', 'DIAPOWER.csv', 'DICIND.csv', 'DIGISPICE.csv', 'DIGJAMLTD.csv', 'DISHTV.csv', 'DIVISLAB.csv', 'DIXON.csv', 'DLF.csv', 'DLINKINDIA.csv', 'DMART.csv', 'DNAMEDIA.csv', 'DOLAT.csv', 'DOLLAR.csv', 'DONEAR.csv', 'DPABHUSHAN.csv', 'DPSCLTD.csv', 'DPWIRES.csv', 'DQE.csv', 'DREDGECORP.csv', 'DRREDDY.csv', 'DSSL.csv', 'DTIL.csv', 'DUCON.csv', 'DVL.csv', 'DWARKESH.csv', 'DYNAMATECH.csv', 'DYNPRO.csv', 'EASTSILK.csv', 'EASUNREYRL.csv', 'EBIXFOREX.csv', 'ECLERX.csv', 'EDELWEISS.csv', 'EDUCOMP.csv', 'EICHERMOT.csv', 'EIDPARRY.csv', 'EIHAHOTELS.csv', 'EIHOTEL.csv', 'EIMCOELECO.csv', 'EKC.csv', 'ELECON.csv', 'ELECTCAST.csv', 'ELECTHERM.csv', 'ELGIEQUIP.csv', 'ELGIRUBCO.csv', 'EMAMILTD.csv', 'EMAMIPAP.csv', 'EMAMIREAL.csv', 'EMCO.csv', 'EMKAY.csv', 'EMMBI.csv', 'ENDURANCE.csv', 'ENERGYDEV.csv', 'ENGINERSIN.csv', 'ENIL.csv', 'EPL.csv', 'EQUITAS.csv', 'EQUITASBNK.csv', 'ERIS.csv', 'EROSMEDIA.csv', 'ESABINDIA.csv', 'ESCORTS.csv', 'ESSARSHPNG.csv', 'ESTER.csv', 'EUROMULTI.csv', 'EUROTEXIND.csv', 'EVEREADY.csv', 'EVERESTIND.csv', 'EXCEL.csv', 'EXCELINDUS.csv', 'EXIDEIND.csv', 'EXPLEOSOL.csv', 'FACT.csv', 'FCL.csv', 'FCONSUMER.csv', 'FCSSOFT.csv', 'FDC.csv', 'FEDERALBNK.csv', 'FEL.csv', 'FELDVR.csv', 'FIEMIND.csv', 'FILATEX.csv', 'FINCABLES.csv', 'FINEORG.csv', 'FINPIPE.csv', 'FLEXITUFF.csv', 'FLFL.csv', 'FLUOROCHEM.csv', 'FMGOETZE.csv', 'FMNL.csv', 'FORCEMOT.csv', 'FORTIS.csv', 'FOSECOIND.csv', 'FRETAIL.csv', 'FSC.csv', 'FSL.csv', 'GABRIEL.csv', 'GAEL.csv', 'GAIL.csv', 'GAL.csv', 'GALAXYSURF.csv', 'GALLANTT.csv', 'GALLISPAT.csv', 'GAMMNINFRA.csv', 'GANDHITUBE.csv', 'GANECOS.csv', 'GANESHHOUC.csv', 'GANGESSECU.csv', 'GARDENSILK.csv', 'GARFIBRES.csv', 'GATI.csv', 'GAYAHWS.csv', 'GAYAPROJ.csv', 'GBGLOBAL.csv', 'GDL.csv', 'GEECEE.csv', 'GEEKAYWIRE.csv', 'GENESYS.csv', 'GENUSPAPER.csv', 'GENUSPOWER.csv', 'GEOJITFSL.csv', 'GEPIL.csv', 'GESHIP.csv', 'GET-D.csv', 'GFLLIMITED.csv', 'GFSTEELS.csv', 'GHCL.csv', 'GICHSGFIN.csv', 'GICRE.csv', 'GILLANDERS.csv', 'GILLETTE.csv', 'GINNIFILA.csv', 'GIPCL.csv', 'GISOLUTION.csv', 'GKWLIMITED.csv', 'GLAXO.csv', 'GLENMARK.csv', 'GLFL.csv', 'GLOBALVECT.csv', 'GLOBE.csv', 'GLOBOFFS.csv', 'GLOBUSSPR.csv', 'GMBREW.csv', 'GMDCLTD.csv', 'GMMPFAUDLR.csv', 'GMRINFRA.csv', 'GNA.csv', 'GNFC.csv', 'GOACARBON.csv', 'GOCLCORP.csv', 'GODFRYPHLP.csv', 'GODREJAGRO.csv', 'GODREJCP.csv', 'GODREJIND.csv', 'GODREJPROP.csv', 'GOENKA.csv', 'GOKEX.csv', 'GOKUL.csv', 'GOKULAGRO.csv', 'GOLDENTOBC.csv', 'GOLDIAM.csv', 'GOLDTECH.csv', 'GOODLUCK.csv', 'GOODYEAR.csv', 'GPIL.csv', 'GPPL.csv', 'GPTINFRA.csv', 'GRANULES.csv', 'GRAPHITE.csv', 'GRASIM.csv', 'GRAVITA.csv', 'GREAVESCOT.csv', 'GREENLAM.csv', 'GREENPANEL.csv', 'GREENPLY.csv', 'GREENPOWER.csv', 'GRINDWELL.csv', 'GROBTEA.csv', 'GRPLTD.csv', 'GRSE.csv', 'GSCLCEMENT.csv', 'GSFC.csv', 'GSPL.csv', 'GSS.csv', 'GTL.csv', 'GTLINFRA.csv', 'GTNIND.csv', 'GTNTEX.csv', 'GTPL.csv', 'GUFICBIO.csv', 'GUJALKALI.csv', 'GUJAPOLLO.csv', 'GUJGASLTD.csv', 'GUJRAFFIA.csv', 'GULFOILLUB.csv', 'GULFPETRO.csv', 'GULPOLY.csv', 'GVKPIL.csv', 'HAL.csv', 'HAPPSTMNDS.csv', 'HARITASEAT.csv', 'HARRMALAYA.csv', 'HATHWAY.csv', 'HATSUN.csv', 'HAVELLS.csv', 'HAVISHA.csv', 'HBLPOWER.csv', 'HBSL.csv', 'HCC.csv', 'HCG.csv', 'HCL-INSYS.csv', 'HCLTECH.csv', 'HDFC.csv', 'HDFCAMC.csv', 'HDFCBANK.csv', 'HDFCLIFE.csv', 'HDIL.csv', 'HEG.csv', 'HEIDELBERG.csv', 'HEMIPROP.csv', 'HERCULES.csv', 'HERITGFOOD.csv', 'HEROMOTOCO.csv', 'HESTERBIO.csv', 'HEXATRADEX.csv', 'HFCL.csv', 'HGINFRA.csv', 'HGS.csv', 'HIKAL.csv', 'HIL.csv', 'HILTON.csv', 'HIMATSEIDE.csv', 'HINDALCO.csv', 'HINDCOMPOS.csv', 'HINDCOPPER.csv', 'HINDMOTORS.csv', 'HINDNATGLS.csv', 'HINDOILEXP.csv', 'HINDPETRO.csv', 'HINDUNILVR.csv', 'HINDZINC.csv', 'HIRECT.csv', 'HISARMETAL.csv', 'HITECH.csv', 'HITECHCORP.csv', 'HITECHGEAR.csv', 'HLVLTD.csv', 'HMT.csv', 'HMVL.csv', 'HNDFDS.csv', 'HONAUT.csv', 'HONDAPOWER.csv', 'HOTELRUGBY.csv', 'HOVS.csv', 'HPL.csv', 'HSCL.csv', 'HSIL.csv', 'HTMEDIA.csv', 'HUBTOWN.csv', 'HUDCO.csv', 'IBREALEST.csv', 'IBULHSGFIN.csv', 'IBULISL.csv', 'ICEMAKE.csv', 'ICICIBANK.csv', 'ICICIGI.csv', 'ICICIPRULI.csv', 'ICIL.csv', 'ICRA.csv', 'IDBI.csv', 'IDEA.csv', 'IDFC.csv', 'IDFCFIRSTB.csv', 'IEX.csv', 'IFBAGRO.csv', 'IFBIND.csv', 'IFCI.csv', 'IFGLEXPOR.csv', 'IGARASHI.csv', 'IGL.csv', 'IGPL.csv', 'IIFL.csv', 'IIFLSEC.csv', 'IIFLWAM.csv', 'IITL.csv', 'ILFSENGG.csv', 'ILFSTRANS.csv', 'IMAGICAA.csv', 'IMFA.csv', 'IMPAL.csv', 'IMPEXFERRO.csv', 'INDBANK.csv', 'INDHOTEL.csv', 'INDIACEM.csv', 'INDIAGLYCO.csv', 'INDIAMART.csv', 'INDIANB.csv', 'INDIANCARD.csv', 'INDIANHUME.csv', 'INDIGO.csv', 'INDLMETER.csv', 'INDNIPPON.csv', 'INDOCO.csv', 'INDORAMA.csv', 'INDOSOLAR.csv', 'INDOSTAR.csv', 'INDOTECH.csv', 'INDOTHAI.csv', 'INDOWIND.csv', 'INDRAMEDCO.csv', 'INDSWFTLAB.csv', 'INDSWFTLTD.csv', 'INDTERRAIN.csv', 'INDUSINDBK.csv', 'INEOSSTYRO.csv', 'INFIBEAM.csv', 'INFOBEAN.csv', 'INFRATEL.csv', 'INFY.csv', 'INGERRAND.csv', 'INOXLEISUR.csv', 'INOXWIND.csv', 'INSECTICID.csv', 'INSPIRISYS.csv', 'INTEGRA.csv', 'INTELLECT.csv', 'INTENTECH.csv', 'INVENTURE.csv', 'IOB.csv', 'IOC.csv', 'IOLCP.csv', 'IPCALAB.csv', 'IRB.csv', 'IRCON.csv', 'IRCTC.csv', 'ISEC.csv', 'ISFT.csv', 'ISMTLTD.csv', 'ITC.csv', 'ITDC.csv', 'ITDCEM.csv', 'ITI.csv', 'IVC.csv', 'IVP.csv', 'IZMO.csv', 'JAGRAN.csv', 'JAGSNPHARM.csv', 'JAIBALAJI.csv', 'JAICORPLTD.csv', 'JAIHINDPRO.csv', 'JAINSTUDIO.csv', 'JAMNAAUTO.csv', 'JASH.csv', 'JAYAGROGN.csv', 'JAYBARMARU.csv', 'JAYNECOIND.csv', 'JAYSREETEA.csv', 'JBCHEPHARM.csv', 'JBFIND.csv', 'JBMA.csv', 'JCHAC.csv', 'JETAIRWAYS.csv', 'JHS.csv', 'JIKIND.csv', 'JINDALPHOT.csv', 'JINDALPOLY.csv', 'JINDALSAW.csv', 'JINDALSTEL.csv', 'JINDRILL.csv', 'JINDWORLD.csv', 'JISLDVREQS.csv', 'JISLJALEQS.csv', 'JITFINFRA.csv', 'JIYAECO.csv', 'JKBANK.csv', 'JKCEMENT.csv', 'JKIL.csv', 'JKLAKSHMI.csv', 'JKPAPER.csv', 'JKTYRE.csv', 'JMA.csv', 'JMCPROJECT.csv', 'JMFINANCIL.csv', 'JMTAUTOLTD.csv', 'JOCIL.csv', 'JPASSOCIAT.csv', 'JPINFRATEC.csv', 'JPOLYINVST.csv', 'JPPOWER.csv', 'JSL.csv', 'JSLHISAR.csv', 'JSWENERGY.csv', 'JSWHL.csv', 'JSWISPL.csv', 'JSWSTEEL.csv', 'JTEKTINDIA.csv', 'JUBILANT.csv', 'JUBLFOOD.csv', 'JUBLINDS.csv', 'JUMPNET.csv', 'JUSTDIAL.csv', 'JYOTHYLAB.csv', 'JYOTISTRUC.csv', 'KABRAEXTRU.csv', 'KAJARIACER.csv', 'KAKATCEM.csv', 'KALPATPOWR.csv', 'KALYANI.csv', 'KALYANIFRG.csv', 'KAMATHOTEL.csv', 'KAMDHENU.csv', 'KANANIIND.csv', 'KANORICHEM.csv', 'KANSAINER.csv', 'KAPSTON.csv', 'KARDA.csv', 'KARMAENG.csv', 'KARURVYSYA.csv', 'KAUSHALYA.csv', 'KAYA.csv', 'KCP.csv', 'KCPSUGIND.csv', 'KDDL.csv', 'KEC.csv', 'KECL.csv', 'KEI.csv', 'KELLTONTEC.csv', 'KENNAMET.csv', 'KERNEX.csv', 'KESORAMIND.csv', 'KEYFINSERV.csv', 'KGL.csv', 'KHADIM.csv', 'KHAICHEM.csv', 'KHANDSE.csv', 'KICL.csv', 'KILITCH.csv', 'KINGFA.csv', 'KIOCL.csv', 'KIRIINDUS.csv', 'KIRLFER.csv', 'KIRLOSBROS.csv', 'KIRLOSENG.csv', 'KIRLOSIND.csv', 'KITEX.csv', 'KKCL.csv', 'KMSUGAR.csv', 'KNRCON.csv', 'KOKUYOCMLN.csv', 'KOLTEPATIL.csv', 'KOPRAN.csv', 'KOTAKBANK.csv', 'KOTARISUG.csv', 'KOTHARIPET.csv', 'KOTHARIPRO.csv', 'KPITTECH.csv', 'KPRMILL.csv', 'KRBL.csv', 'KREBSBIO.csv', 'KRIDHANINF.csv', 'KRISHANA.csv', 'KSB.csv', 'KSCL.csv', 'KSERASERA.csv', 'KSK.csv', 'KSL.csv', 'KTKBANK.csv', 'KUANTUM.csv', 'KWALITY.csv', 'LAKPRE.csv', 'LAKSHVILAS.csv', 'LALPATHLAB.csv', 'LAMBODHARA.csv', 'LAOPALA.csv', 'LASA.csv', 'LAURUSLABS.csv', 'LAXMIMACH.csv', 'LEMONTREE.csv', 'LFIC.csv', 'LGBBROSLTD.csv', 'LGBFORGE.csv', 'LIBAS.csv', 'LIBERTSHOE.csv', 'LICHSGFIN.csv', 'LIKHITHA.csv', 'LINCOLN.csv', 'LINCPEN.csv', 'LINDEINDIA.csv', 'LOKESHMACH.csv', 'LOTUSEYE.csv', 'LOVABLE.csv', 'LPDC.csv', 'LSIL.csv', 'LT.csv', 'LTFH.csv', 'LTI.csv', 'LTTS.csv', 'LUMAXIND.csv', 'LUMAXTECH.csv', 'LUPIN.csv', 'LUXIND.csv', 'LYKALABS.csv', 'LYPSAGEMS.csv', 'MAANALU.csv', 'MACPOWER.csv', 'MADHAV.csv', 'MADHUCON.csv', 'MADRASFERT.csv', 'MAGADSUGAR.csv', 'MAGMA.csv', 'MAGNUM.csv', 'MAHABANK.csv', 'MAHAPEXLTD.csv', 'MAHASTEEL.csv', 'MAHEPC.csv', 'MAHESHWARI.csv', 'MAHINDCIE.csv', 'MAHLIFE.csv', 'MAHLOG.csv', 'MAHSCOOTER.csv', 'MAHSEAMLES.csv', 'MAITHANALL.csv', 'MAJESCO.csv', 'MALUPAPER.csv', 'MANAKALUCO.csv', 'MANAKCOAT.csv', 'MANAKSIA.csv', 'MANAKSTEEL.csv', 'MANALIPETC.csv', 'MANAPPURAM.csv', 'MANGALAM.csv', 'MANGCHEFER.csv', 'MANGLMCEM.csv', 'MANGTIMBER.csv', 'MANINDS.csv', 'MANINFRA.csv', 'MANUGRAPH.csv', 'MARALOVER.csv', 'MARATHON.csv', 'MARICO.csv', 'MARKSANS.csv', 'MARUTI.csv', 'MASFIN.csv', 'MASKINVEST.csv', 'MASTEK.csv', 'MATRIMONY.csv', 'MAWANASUG.csv', 'MAXHEALTH.csv', 'MAXIND.csv', 'MAXVIL.csv', 'MAYURUNIQ.csv', 'MAZDA.csv', 'MAZDOCK.csv', 'MBAPL.csv', 'MBECL.csv', 'MBLINFRA.csv', 'MCDHOLDING.csv', 'MCDOWELL-N.csv', 'MCL.csv', 'MCLEODRUSS.csv', 'MCX.csv', 'MEGASOFT.csv', 'MEGH.csv', 'MELSTAR.csv', 'MENONBE.csv', 'MEP.csv', 'MERCATOR.csv', 'METALFORGE.csv', 'METKORE.csv', 'METROPOLIS.csv', 'MFSL.csv', 'MGL.csv', 'MHRIL.csv', 'MIC.csv', 'MIDHANI.csv', 'MINDACORP.csv', 'MINDAIND.csv', 'MINDTECK.csv', 'MINDTREE.csv', 'MIRCELECTR.csv', 'MIRZAINT.csv', 'MITTAL.csv', 'MM.csv', 'MMFIN.csv', 'MMFL.csv', 'MMP.csv', 'MMTC.csv', 'MODIRUBBER.csv', 'MOHITIND.csv', 'MOHOTAIND.csv', 'MOIL.csv', 'MOLDTECH.csv', 'MOLDTKPAC.csv', 'MONTECARLO.csv', 'MORARJEE.csv', 'MOREPENLAB.csv', 'MOTHERSUMI.csv', 'MOTILALOFS.csv', 'MOTOGENFIN.csv', 'MPHASIS.csv', 'MPSLTD.csv', 'MRF.csv', 'MRO-TEK.csv', 'MRPL.csv', 'MSPL.csv', 'MSTCLTD.csv', 'MTEDUCARE.csv', 'MTNL.csv', 'MUKANDENGG.csv', 'MUKANDLTD.csv', 'MUKTAARTS.csv', 'MUNJALAU.csv', 'MUNJALSHOW.csv', 'MURUDCERA.csv', 'MUTHOOTCAP.csv', 'MUTHOOTFIN.csv', 'NACLIND.csv', 'NAGAFERT.csv', 'NAGREEKCAP.csv', 'NAGREEKEXP.csv', 'NAHARCAP.csv', 'NAHARINDUS.csv', 'NAHARPOLY.csv', 'NAHARSPING.csv', 'NAM-INDIA.csv', 'NATCOPHARM.csv', 'NATHBIOGEN.csv', 'NATIONALUM.csv', 'NATNLSTEEL.csv', 'NAUKRI.csv', 'NAVINFLUOR.csv', 'NAVKARCORP.csv', 'NAVNETEDUL.csv', 'NBCC.csv', 'NBIFIN.csv', 'NBVENTURES.csv', 'NCC.csv', 'NCLIND.csv', 'NDGL.csv', 'NDL.csv', 'NDRAUTO.csv', 'NDTV.csv', 'NECCLTD.csv', 'NECLIFE.csv', 'NELCAST.csv', 'NELCO.csv', 'NEOGEN.csv', 'NESCO.csv', 'NESTLEIND.csv', 'NETWORK18.csv', 'NEULANDLAB.csv', 'NEWGEN.csv', 'NEXTMEDIA.csv', 'NFL.csv', 'NH.csv', 'NHPC.csv', 'NIACL.csv', 'NIBL.csv', 'NIITLTD.csv', 'NILAINFRA.csv', 'NILASPACES.csv', 'NILKAMAL.csv', 'NIPPOBATRY.csv', 'NIRAJ.csv', 'NIRAJISPAT.csv', 'NITCO.csv', 'NITINFIRE.csv', 'NITINSPIN.csv', 'NKIND.csv', 'NLCINDIA.csv', 'NMDC.csv', 'NOCIL.csv', 'NOIDATOLL.csv', 'NORBTEAEXP.csv', 'NOVARTIND.csv', 'NRAIL.csv', 'NRBBEARING.csv', 'NSIL.csv', 'NTL.csv', 'NTPC.csv', 'NUCLEUS.csv', 'NXTDIGITAL.csv', 'OAL.csv', 'OBEROIRLTY.csv', 'OCCL.csv', 'OFSS.csv', 'OIL.csv', 'OILCOUNTUB.csv', 'OISL.csv', 'OLECTRA.csv', 'OMAXAUTO.csv', 'OMAXE.csv', 'OMKARCHEM.csv', 'OMMETALS.csv', 'ONELIFECAP.csv', 'ONEPOINT.csv', 'ONGC.csv', 'ONMOBILE.csv', 'ONWARDTEC.csv', 'OPTIEMUS.csv', 'OPTOCIRCUI.csv', 'ORBTEXP.csv', 'ORCHPHARMA.csv', 'ORICONENT.csv', 'ORIENTABRA.csv', 'ORIENTALTL.csv', 'ORIENTBELL.csv', 'ORIENTCEM.csv', 'ORIENTELEC.csv', 'ORIENTHOT.csv', 'ORIENTLTD.csv', 'ORIENTPPR.csv', 'ORIENTREF.csv', 'ORISSAMINE.csv', 'ORTEL.csv', 'ORTINLABSS.csv', 'OSWALAGRO.csv', 'PAEL.csv', 'PAGEIND.csv', 'PAISALO.csv', 'PALASHSECU.csv', 'PALREDTEC.csv', 'PANACEABIO.csv', 'PANACHE.csv', 'PANAMAPET.csv', 'PAPERPROD.csv', 'PARABDRUGS.csv', 'PARACABLES.csv', 'PARAGMILK.csv', 'PARSVNATH.csv', 'PATELENG.csv', 'PATINTLOG.csv', 'PATSPINLTD.csv', 'PCJEWELLER.csv', 'PDMJEPAPER.csv', 'PDSMFL.csv', 'PEARLPOLY.csv', 'PEL.csv', 'PENIND.csv', 'PENINLAND.csv', 'PERSISTENT.csv', 'PETRONET.csv', 'PFC.csv', 'PFIZER.csv', 'PFOCUS.csv', 'PFS.csv', 'PGEL.csv', 'PGHH.csv', 'PGHL.csv', 'PGIL.csv', 'PHILIPCARB.csv', 'PHOENIXLTD.csv', 'PIDILITIND.csv', 'PIIND.csv', 'PILANIINVS.csv', 'PILITA.csv', 'PIONDIST.csv', 'PIONEEREMB.csv', 'PITTIENG.csv', 'PKTEA.csv', 'PLASTIBLEN.csv', 'PNB.csv', 'PNBGILTS.csv', 'PNBHOUSING.csv', 'PNC.csv', 'PNCINFRA.csv', 'PODDARHOUS.csv', 'PODDARMENT.csv', 'POKARNA.csv', 'POLYCAB.csv', 'POLYMED.csv', 'POLYPLEX.csv', 'PONNIERODE.csv', 'POWERGRID.csv', 'POWERINDIA.csv', 'POWERMECH.csv', 'PPAP.csv', 'PPL.csv', 'PRABHAT.csv', 'PRADIP.csv', 'PRAENG.csv', 'PRAJIND.csv', 'PRAKASH.csv', 'PRAKASHSTL.csv', 'PRAXIS.csv', 'PRECAM.csv', 'PRECOT.csv', 'PRECWIRE.csv', 'PREMEXPLN.csv', 'PREMIER.csv', 'PREMIERPOL.csv', 'PRESSMN.csv', 'PRESTIGE.csv', 'PRICOLLTD.csv', 'PRIMESECU.csv', 'PRINCEPIPE.csv', 'PRIVISCL.csv', 'PROSEED.csv', 'PROZONINTU.csv', 'PRSMJOHNSN.csv', 'PSB.csv', 'PSPPROJECT.csv', 'PTC.csv', 'PTL.csv', 'PUNJABCHEM.csv', 'PUNJLLOYD.csv', 'PURVA.csv', 'PVR.csv', 'QUESS.csv', 'QUICKHEAL.csv', 'RADAAN.csv', 'RADICO.csv', 'RADIOCITY.csv', 'RAIN.csv', 'RAJESHEXPO.csv', 'RAJRATAN.csv', 'RAJRAYON.csv', 'RAJSREESUG.csv', 'RAJTV.csv', 'RALLIS.csv', 'RAMANEWS.csv', 'RAMASTEEL.csv', 'RAMCOCEM.csv', 'RAMCOIND.csv', 'RAMCOSYS.csv', 'RAMKY.csv', 'RAMSARUP.csv', 'RANASUG.csv', 'RANEENGINE.csv', 'RANEHOLDIN.csv', 'RATNAMANI.csv', 'RAYMOND.csv', 'RBL.csv', 'RBLBANK.csv', 'RCF.csv', 'RCOM.csv', 'RECLTD.csv', 'REDINGTON.csv', 'REFEX.csv', 'RELAXO.csv', 'RELCAPITAL.csv', 'RELIANCE.csv', 'RELIGARE.csv', 'RELINFRA.csv', 'REMSONSIND.csv', 'RENUKA.csv', 'REPCOHOME.csv', 'REPRO.csv', 'RESPONIND.csv', 'REVATHI.csv', 'RGL.csv', 'RHFL.csv', 'RICOAUTO.csv', 'RIIL.csv', 'RITES.csv', 'RKDL.csv', 'RKFORGE.csv', 'RMCL.csv', 'RML.csv', 'RNAVAL.csv', 'ROHITFERRO.csv', 'ROHLTD.csv', 'ROLLT.csv', 'ROLTA.csv', 'ROML.csv', 'ROSSARI.csv', 'ROSSELLIND.csv', 'ROUTE.csv', 'RPGLIFE.csv', 'RPOWER.csv', 'RPPINFRA.csv', 'RSSOFTWARE.csv', 'RSWM.csv', 'RSYSTEMS.csv', 'RTNINFRA.csv', 'RTNPOWER.csv', 'RUBYMILLS.csv', 'RUCHI.csv', 'RUCHINFRA.csv', 'RUCHIRA.csv', 'RUPA.csv', 'RUSHIL.csv', 'RVNL.csv', 'SABEVENTS.csv', 'SABTN.csv', 'SADBHAV.csv', 'SADBHIN.csv', 'SAFARI.csv', 'SAGARDEEP.csv', 'SAGCEM.csv', 'SAIL.csv', 'SAKAR.csv', 'SAKHTISUG.csv', 'SAKSOFT.csv', 'SAKUMA.csv', 'SALASAR.csv', 'SALONA.csv', 'SALSTEEL.csv', 'SALZERELEC.csv', 'SAMBHAAV.csv', 'SANCO.csv', 'SANDESH.csv', 'SANDHAR.csv', 'SANGAMIND.csv', 'SANGHIIND.csv', 'SANGHVIFOR.csv', 'SANGHVIMOV.csv', 'SANGINITA.csv', 'SANOFI.csv', 'SANWARIA.csv', 'SARDAEN.csv', 'SAREGAMA.csv', 'SARLAPOLY.csv', 'SASKEN.csv', 'SASTASUNDR.csv', 'SATIA.csv', 'SATIN.csv', 'SBICARD.csv', 'SBILIFE.csv', 'SBIN.csv', 'SCAPDVR.csv', 'SCHAEFFLER.csv', 'SCHAND.csv', 'SCHNEIDER.csv', 'SCI.csv', 'SDBL.csv', 'SEAMECLTD.csv', 'SELAN.csv', 'SELMCL.csv', 'SEPOWER.csv', 'SEQUENT.csv', 'SESHAPAPER.csv', 'SETCO.csv', 'SETUINFRA.csv', 'SEYAIND.csv', 'SEZAL.csv', 'SFL.csv', 'SGL.csv', 'SHAHALLOYS.csv', 'SHAKTIPUMP.csv', 'SHALBY.csv', 'SHALPAINTS.csv', 'SHANKARA.csv', 'SHANTIGEAR.csv', 'SHARDACROP.csv', 'SHARDAMOTR.csv', 'SHAREINDIA.csv', 'SHEMAROO.csv', 'SHIL.csv', 'SHILPAMED.csv', 'SHIRPUR-G.csv', 'SHIVAMAUTO.csv', 'SHIVAMILLS.csv', 'SHIVATEX.csv', 'SHK.csv', 'SHOPERSTOP.csv', 'SHRADHA.csv', 'SHREDIGCEM.csv', 'SHREECEM.csv', 'SHREEPUSHK.csv', 'SHREERAMA.csv', 'SHRENIK.csv', 'SHREYANIND.csv', 'SHREYAS.csv', 'SHRIPISTON.csv', 'SHRIRAMCIT.csv', 'SHRIRAMEPC.csv', 'SHYAMCENT.csv', 'SHYAMTEL.csv', 'SICAGEN.csv', 'SICAL.csv', 'SIEMENS.csv', 'SIGIND.csv', 'SIL.csv', 'SILINV.csv', 'SILLYMONKS.csv', 'SIMBHALS.csv', 'SIMPLEXINF.csv', 'SINTERCOM.csv', 'SINTEX.csv', 'SIRCA.csv', 'SIS.csv', 'SITINET.csv', 'SIYSIL.csv', 'SJVN.csv', 'SKFINDIA.csv', 'SKIL.csv', 'SKIPPER.csv', 'SKMEGGPROD.csv', 'SMARTLINK.csv', 'SMLISUZU.csv', 'SMPL.csv', 'SMSLIFE.csv', 'SMSPHARMA.csv', 'SNOWMAN.csv', 'SOBHA.csv', 'SOLARA.csv', 'SOLARINDS.csv', 'SOMANYCERA.csv', 'SOMATEX.csv', 'SOMICONVEY.csv', 'SONATSOFTW.csv', 'SORILINFRA.csv', 'SOTL.csv', 'SOUTHBANK.csv', 'SOUTHWEST.csv', 'SPAL.csv', 'SPANDANA.csv', 'SPARC.csv', 'SPCENET.csv', 'SPECIALITY.csv', 'SPENCERS.csv', 'SPENTEX.csv', 'SPIC.csv', 'SPICEJET.csv', 'SPLIL.csv', 'SPMLINFRA.csv', 'SPTL.csv', 'SPYL.csv', 'SREEL.csv', 'SREINFRA.csv', 'SRF.csv', 'SRHHYPOLTD.csv', 'SRIPIPES.csv', 'SRPL.csv', 'SRTRANSFIN.csv', 'SSPOWER.csv', 'SSWL.csv', 'STAR.csv', 'STARCEMENT.csv', 'STARPAPER.csv', 'STCINDIA.csv', 'STEELCITY.csv', 'STEELXIND.csv', 'STEL.csv', 'STERTOOLS.csv', 'STINDIA.csv', 'STLTECH.csv', 'SUBCAPCITY.csv', 'SUBEXLTD.csv', 'SUBROS.csv', 'SUDARSCHEM.csv', 'SUJANAUNI.csv', 'SUMEETINDS.csv', 'SUMICHEM.csv', 'SUMIT.csv', 'SUMMITSEC.csv', 'SUNCLAYLTD.csv', 'SUNDARAM.csv', 'SUNDARMFIN.csv', 'SUNDARMHLD.csv', 'SUNDRMBRAK.csv', 'SUNDRMFAST.csv', 'SUNFLAG.csv', 'SUNPHARMA.csv', 'SUNTECK.csv', 'SUNTV.csv', 'SUPERHOUSE.csv', 'SUPERSPIN.csv', 'SUPPETRO.csv', 'SUPRAJIT.csv', 'SUPREMEIND.csv', 'SUPREMEINF.csv', 'SURANASOL.csv', 'SURANATP.csv', 'SURYALAXMI.csv', 'SURYAROSNI.csv', 'SUTLEJTEX.csv', 'SUULD.csv', 'SUVEN.csv', 'SUVENPHAR.csv', 'SUZLON.csv', 'SWANENERGY.csv', 'SWARAJENG.csv', 'SWELECTES.csv', 'SWSOLAR.csv', 'SYMPHONY.csv', 'SYNCOM.csv', 'SYNGENE.csv', 'TAINWALCHM.csv', 'TAJGVK.csv', 'TAKE.csv', 'TALBROAUTO.csv', 'TANLA.csv', 'TANTIACONS.csv', 'TARMAT.csv', 'TASTYBITE.csv', 'TATACHEM.csv', 'TATACOFFEE.csv', 'TATACOMM.csv', 'TATACONSUM.csv', 'TATAELXSI.csv', 'TATAINVEST.csv', 'TATAMETALI.csv', 'TATAMOTORS.csv', 'TATAMTRDVR.csv', 'TATAPOWER.csv', 'TATASTEEL.csv', 'TATASTLBSL.csv', 'TATASTLLP.csv', 'TBZ.csv', 'TCI.csv', 'TCIDEVELOP.csv', 'TCIEXP.csv', 'TCIFINANCE.csv', 'TCNSBRANDS.csv', 'TCPLPACK.csv', 'TCS.csv', 'TDPOWERSYS.csv', 'TEAMLEASE.csv', 'TECHIN.csv', 'TECHM.csv', 'TECHNOE.csv', 'TECHNOFAB.csv', 'TEJASNET.csv', 'TERASOFT.csv', 'TEXINFRA.csv', 'TEXMOPIPES.csv', 'TEXRAIL.csv', 'TFCILTD.csv', 'TFL.csv', 'TGBHOTELS.csv', 'THANGAMAYL.csv', 'THEINVEST.csv', 'THEMISMED.csv', 'THERMAX.csv', 'THIRUSUGAR.csv', 'THOMASCOOK.csv', 'THOMASCOTT.csv', 'THYROCARE.csv', 'TI.csv', 'TIDEWATER.csv', 'TIIL.csv', 'TIINDIA.csv', 'TIJARIA.csv', 'TIL.csv', 'TIMESGTY.csv', 'TIMETECHNO.csv', 'TIMKEN.csv', 'TINPLATE.csv', 'TIPSINDLTD.csv', 'TIRUMALCHM.csv', 'TIRUPATIFL.csv', 'TITAN.csv', 'TMRVL.csv', 'TNPETRO.csv', 'TNPL.csv', 'TNTELE.csv', 'TOKYOPLAST.csv', 'TORNTPHARM.csv', 'TORNTPOWER.csv', 'TOTAL.csv', 'TOUCHWOOD.csv', 'TPLPLASTEH.csv', 'TREEHOUSE.csv', 'TREJHARA.csv', 'TRENT.csv', 'TRF.csv', 'TRIDENT.csv', 'TRIGYN.csv', 'TRIL.csv', 'TRITURBINE.csv', 'TRIVENI.csv', 'TTKHLTCARE.csv', 'TTKPRESTIG.csv', 'TTL.csv', 'TTML.csv', 'TV18BRDCST.csv', 'TVSELECT.csv', 'TVSMOTOR.csv', 'TVSSRICHAK.csv', 'TVTODAY.csv', 'TVVISION.csv', 'TWL.csv', 'UBL.csv', 'UCALFUEL.csv', 'UCOBANK.csv', 'UFLEX.csv', 'UFO.csv', 'UGARSUGAR.csv', 'UJAAS.csv', 'UJJIVAN.csv', 'UJJIVANSFB.csv', 'ULTRACEMCO.csv', 'UMANGDAIRY.csv', 'UMESLTD.csv', 'UNICHEMLAB.csv', 'UNIDT.csv', 'UNIENTER.csv', 'UNIONBANK.csv', 'UNITECH.csv', 'UNITEDTEA.csv', 'UNITY.csv', 'UNIVASTU.csv', 'UNIVCABLES.csv', 'UNIVPHOTO.csv', 'UPL.csv', 'URJA.csv', 'USHAMART.csv', 'UTIAMC.csv', 'UTTAMSTL.csv', 'UTTAMSUGAR.csv', 'UVSL.csv', 'V2RETAIL.csv', 'VADILALIND.csv', 'VAIBHAVGBL.csv', 'VAISHALI.csv', 'VAKRANGEE.csv', 'VALIANTORG.csv', 'VARDHACRLC.csv', 'VARDMNPOLY.csv', 'VARROC.csv', 'VASCONEQ.csv', 'VASWANI.csv', 'VBL.csv', 'VEDL.csv', 'VENKEYS.csv', 'VENUSREM.csv', 'VERTOZ.csv', 'VESUVIUS.csv', 'VETO.csv', 'VGUARD.csv', 'VHL.csv', 'VICEROY.csv', 'VIDEOIND.csv', 'VIJIFIN.csv', 'VIKASECO.csv', 'VIKASMCORP.csv', 'VIKASPROP.csv', 'VIKASWSP.csv', 'VIMTALABS.csv', 'VINATIORGA.csv', 'VINDHYATEL.csv', 'VINYLINDIA.csv', 'VIPCLOTHNG.csv', 'VIPIND.csv', 'VIPULLTD.csv', 'VISAKAIND.csv', 'VISASTEEL.csv', 'VISHAL.csv', 'VISHNU.csv', 'VISHWARAJ.csv', 'VIVIDHA.csv', 'VIVIMEDLAB.csv', 'VLSFINANCE.csv', 'VMART.csv', 'VOLTAMP.csv', 'VOLTAS.csv', 'VRLLOG.csv', 'VSSL.csv', 'VSTIND.csv', 'VSTTILLERS.csv', 'VTL.csv', 'WABAG.csv', 'WABCOINDIA.csv', 'WALCHANNAG.csv', 'WATERBASE.csv', 'WEBELSOLAR.csv', 'WEIZMANIND.csv', 'WELCORP.csv', 'WELENT.csv', 'WELINV.csv', 'WELSPUNIND.csv', 'WENDT.csv', 'WESTLIFE.csv', 'WHEELS.csv', 'WHIRLPOOL.csv', 'WILLAMAGOR.csv', 'WINDMACHIN.csv', 'WIPL.csv', 'WIPRO.csv', 'WOCKPHARMA.csv', 'WONDERLA.csv', 'WORTH.csv', 'WSI.csv', 'WSTCSTPAPR.csv', 'XCHANGING.csv', 'XELPMOC.csv', 'XPROINDIA.csv', 'YESBANK.csv', 'ZEEL.csv', 'ZEELEARN.csv', 'ZEEMEDIA.csv', 'ZENITHEXPO.csv', 'ZENSARTECH.csv', 'ZENTEC.csv', 'ZICOM.csv', 'ZODIACLOTH.csv', 'ZODJRDMKJ.csv', 'ZOTA.csv', 'ZUARI.csv', 'ZUARIGLOB.csv', 'ZYDUSWELL.csv']\n"
     ]
    }
   ],
   "source": [
    "for dirname, subdir, filename in os.walk(\"input\"):\n",
    "    print(dirname)\n",
    "\n",
    "\n",
    "for dirname, subdir, filenames in os.walk(\"input\\\\kaggle nseindia-all-stocks\"):\n",
    "    print(filenames)\n",
    "    \n",
    "for dirname, subdir, filenames in os.walk(\"input\\\\kaggle daily NSE data\\\\SCRIPT\"):\n",
    "    print(filenames)"
   ]
  },
  {
   "cell_type": "code",
   "execution_count": 4,
   "id": "99241763",
   "metadata": {},
   "outputs": [],
   "source": [
    "sample_scripts_df = pd.read_csv(\"input\\\\kaggle daily NSE data\\\\SCRIPT\\\\20MICRONS.csv\")"
   ]
  },
  {
   "cell_type": "code",
   "execution_count": 5,
   "id": "48822ca2",
   "metadata": {},
   "outputs": [],
   "source": [
    "sample_combined_df = pd.read_csv(\"input\\\\kaggle nseindia-all-stocks\\\\combined.csv\")"
   ]
  },
  {
   "cell_type": "code",
   "execution_count": 6,
   "id": "df2ccae5",
   "metadata": {},
   "outputs": [
    {
     "name": "stdout",
     "output_type": "stream",
     "text": [
      "['Date' 'Symbol' 'Series' 'Prev Close' 'Open' 'High' 'Low' 'Last' 'Close'\n",
      " 'VWAP' 'Volume' 'Turnover' 'Trades' 'Deliverable Volume' '%Deliverble']\n",
      "['Symbol' 'Series' 'Date' 'Prev Close' 'Open Price' 'High Price'\n",
      " 'Low Price' 'Last Price' 'Close Price' 'Average Price'\n",
      " 'Total Traded Quantity' 'Turnover' 'No. of Trades' 'Deliverable Qty'\n",
      " '% Dly Qt to Traded Qty']\n"
     ]
    }
   ],
   "source": [
    "print(sample_scripts_df.columns.values)\n",
    "print(sample_combined_df.columns.values)"
   ]
  },
  {
   "cell_type": "code",
   "execution_count": 7,
   "id": "79092e4a",
   "metadata": {},
   "outputs": [],
   "source": [
    "# The date in this one don't match that of NSE data we ought to convert it\n",
    "sample_scripts_df.sample()\n",
    "_month_index = [\"\",\"Jan\", \"Feb\", \"Mar\", \"Apr\", \"May\", \"Jun\", \"Jul\", \"Aug\", \"Sep\", \"Oct\", \"Nov\", \"Dec\"]\n",
    "def convert_date_to_nse_format(scriptdate):\n",
    "    parts_old = scriptdate.split(\"-\")\n",
    "    parts_new = [parts_old[2], _month_index[int(parts_old[1])], parts_old[0]]\n",
    "    return \"-\".join(parts_new)"
   ]
  },
  {
   "cell_type": "code",
   "execution_count": 8,
   "id": "4d86ac09",
   "metadata": {},
   "outputs": [
    {
     "data": {
      "text/html": [
       "<div>\n",
       "<style scoped>\n",
       "    .dataframe tbody tr th:only-of-type {\n",
       "        vertical-align: middle;\n",
       "    }\n",
       "\n",
       "    .dataframe tbody tr th {\n",
       "        vertical-align: top;\n",
       "    }\n",
       "\n",
       "    .dataframe thead th {\n",
       "        text-align: right;\n",
       "    }\n",
       "</style>\n",
       "<table border=\"1\" class=\"dataframe\">\n",
       "  <thead>\n",
       "    <tr style=\"text-align: right;\">\n",
       "      <th></th>\n",
       "      <th>Symbol</th>\n",
       "      <th>Series</th>\n",
       "      <th>Date</th>\n",
       "      <th>Prev Close</th>\n",
       "      <th>Open Price</th>\n",
       "      <th>High Price</th>\n",
       "      <th>Low Price</th>\n",
       "      <th>Last Price</th>\n",
       "      <th>Close Price</th>\n",
       "      <th>Average Price</th>\n",
       "      <th>Total Traded Quantity</th>\n",
       "      <th>Turnover</th>\n",
       "      <th>No. of Trades</th>\n",
       "      <th>Deliverable Qty</th>\n",
       "      <th>% Dly Qt to Traded Qty</th>\n",
       "    </tr>\n",
       "  </thead>\n",
       "  <tbody>\n",
       "    <tr>\n",
       "      <th>462579</th>\n",
       "      <td>NEOGEN</td>\n",
       "      <td>EQ</td>\n",
       "      <td>02-Jan-2020</td>\n",
       "      <td>362.75</td>\n",
       "      <td>360.3</td>\n",
       "      <td>365.0</td>\n",
       "      <td>358.55</td>\n",
       "      <td>361.85</td>\n",
       "      <td>361.15</td>\n",
       "      <td>362.32</td>\n",
       "      <td>7405</td>\n",
       "      <td>2682962.25</td>\n",
       "      <td>384</td>\n",
       "      <td>4914</td>\n",
       "      <td>66.36</td>\n",
       "    </tr>\n",
       "  </tbody>\n",
       "</table>\n",
       "</div>"
      ],
      "text/plain": [
       "        Symbol Series         Date  Prev Close  Open Price  High Price  \\\n",
       "462579  NEOGEN     EQ  02-Jan-2020      362.75       360.3       365.0   \n",
       "\n",
       "        Low Price  Last Price  Close Price  Average Price  \\\n",
       "462579     358.55      361.85       361.15         362.32   \n",
       "\n",
       "        Total Traded Quantity    Turnover  No. of Trades Deliverable Qty  \\\n",
       "462579                   7405  2682962.25            384            4914   \n",
       "\n",
       "       % Dly Qt to Traded Qty  \n",
       "462579                  66.36  "
      ]
     },
     "execution_count": 8,
     "metadata": {},
     "output_type": "execute_result"
    }
   ],
   "source": [
    "sample_combined_df.sample()"
   ]
  },
  {
   "cell_type": "code",
   "execution_count": null,
   "id": "1ce1174b",
   "metadata": {},
   "outputs": [
    {
     "name": "stdout",
     "output_type": "stream",
     "text": [
      "while -true\n",
      "while -true\n",
      "while -true\n",
      "while -true\n",
      "while -true\n",
      "while -true\n",
      "while -true\n",
      "while -true\n",
      "while -true\n",
      "while -true\n",
      "while -true\n",
      "while -true\n",
      "while -true\n",
      "while -true\n",
      "while -true\n",
      "while -true\n",
      "while -true\n",
      "while -true\n",
      "while -true\n",
      "while -true\n",
      "while -true\n",
      "while -true\n",
      "while -true\n",
      "while -true\n",
      "while -true\n",
      "while -true\n",
      "while -true\n",
      "while -true\n",
      "while -true\n",
      "while -true\n",
      "while -true\n",
      "while -true\n",
      "while -true\n",
      "while -true\n",
      "while -true\n",
      "while -true\n"
     ]
    }
   ],
   "source": [
    "def merge_export_func(data_dict):\n",
    "    new_merged_data = []\n",
    "    output_data_loc = data_dict['output_data_loc']\n",
    "    dirname = data_dict['dirname']\n",
    "    filename = data_dict['filename']\n",
    "    symbol = data_dict['symbol']\n",
    "    \n",
    "    full_old_df = pd.read_csv(os.path.join(dirname,filename))\n",
    "    subset_combined_df = sample_combined_df[sample_combined_df[\"Symbol\"] == symbol]\n",
    "\n",
    "    full_old_df['Date'] = full_old_df['Date'].apply(lambda x: convert_date_to_nse_format(x))\n",
    "\n",
    "    for idx, row in full_old_df.iterrows():\n",
    "        #['Date' 'Symbol' 'Series' 'Prev Close' 'Open' 'High' 'Low' 'Last' 'Close'\n",
    "         #'VWAP' 'Volume' 'Turnover' 'Trades' 'Deliverable Volume' '%Deliverble']\n",
    "        new_merged_data.append({\n",
    "            \"Symbol\":row[\"Symbol\"],\n",
    "            \"Series\":row[\"Series\"],\n",
    "            \"Date\":row[\"Date\"],\n",
    "            \"Prev Close\":row[\"Prev Close\"],\n",
    "            \"Open Price\":row[\"Open\"],\n",
    "            \"High Price\":row[\"High\"],\n",
    "            \"Low Price\":row[\"Low\"],\n",
    "            \"Last Price\":row[\"Last\"],\n",
    "            \"Close Price\":row[\"Close\"],\n",
    "            \"Average Price\":row[\"VWAP\"],\n",
    "            \"Total Traded Quantity\":row[\"Volume\"],\n",
    "            \"Turnover\":row[\"Turnover\"],\n",
    "            \"No. of Trades\":row[\"Trades\"],\n",
    "            \"Deliverable Qty\":row[\"Deliverable Volume\"],\n",
    "            \"% Dly Qt to Traded Qty\":row[\"%Deliverble\"],\n",
    "        })\n",
    "\n",
    "\n",
    "    for idx, row in subset_combined_df.iterrows():\n",
    "        # NSE Website Columnnames\n",
    "        #Symbol\tSeries\tDate\tPrev Close\tOpen Price\tHigh Price\tLow Price\tLast Price\tClose Price\tVWAP\tTotal Traded\n",
    "        # Quantity\tTurnover\n",
    "        # Rs.\tNo. of\n",
    "        # Trades\tDeliverable\n",
    "        # Qty\t% Dly Qt to\n",
    "        # Traded Qty\n",
    "\n",
    "        new_merged_data.append({\n",
    "            \"Symbol\":row[\"Symbol\"],\n",
    "            \"Series\":row[\"Series\"],\n",
    "            \"Date\":row[\"Date\"],\n",
    "            \"Prev Close\":row[\"Prev Close\"],\n",
    "            \"Open Price\":row[\"Open Price\"],\n",
    "            \"High Price\":row[\"High Price\"],\n",
    "            \"Low Price\":row[\"Low Price\"],\n",
    "            \"Last Price\":row[\"Last Price\"],\n",
    "            \"Close Price\":row[\"Close Price\"],\n",
    "            \"Average Price\":row[\"Average Price\"],\n",
    "            \"Total Traded Quantity\":row[\"Total Traded Quantity\"],\n",
    "            \"Turnover\":row[\"Turnover\"],\n",
    "            \"No. of Trades\":row[\"No. of Trades\"],\n",
    "            \"Deliverable Qty\":row[\"Deliverable Qty\"],\n",
    "            \"% Dly Qt to Traded Qty\":row[\"% Dly Qt to Traded Qty\"],\n",
    "        })\n",
    "    \n",
    "\n",
    "\n",
    "    for dt in new_merged_data:\n",
    "        dt['Timestamp'] = dateutil.parser.parse(dt['Date']).timestamp()\n",
    "\n",
    "    new_merged_df = pd.DataFrame(new_merged_data)\n",
    "    new_merged_df.drop_duplicates(subset=[\"Date\"],keep=\"last\")\n",
    "    new_merged_df.to_csv(f\"{output_data_loc}/{symbol}.csv\",index=False)\n",
    "\n",
    "\n",
    "\n",
    "output_data_loc = \"input/all_hist_data\"\n",
    "if not os.path.exists(output_data_loc):\n",
    "    os.makedirs(output_data_loc)\n",
    "\n",
    "\n",
    "merge_worker_data = []\n",
    "    \n",
    "for dirname, subdir, filenames in os.walk(\"input\\\\kaggle daily NSE data\\\\SCRIPT\"):\n",
    "    for filename in filenames:\n",
    "        symbol = filename.split(\".\")[0]\n",
    "        merge_worker_data.append({\n",
    "            \"output_data_loc\": output_data_loc,\n",
    "            \"dirname\": dirname,\n",
    "            \"symbol\": symbol,\n",
    "            \"filename\": filename,\n",
    "        })\n",
    "\n",
    "\n",
    "bs_threadify(merge_worker_data, merge_export_func, num_threads=16)\n",
    "        \n",
    "\n",
    "\n",
    "        \n",
    "        "
   ]
  },
  {
   "cell_type": "code",
   "execution_count": null,
   "id": "2d1b3ce7",
   "metadata": {},
   "outputs": [],
   "source": []
  }
 ],
 "metadata": {
  "kernelspec": {
   "display_name": "Python 3",
   "language": "python",
   "name": "python3"
  },
  "language_info": {
   "codemirror_mode": {
    "name": "ipython",
    "version": 3
   },
   "file_extension": ".py",
   "mimetype": "text/x-python",
   "name": "python",
   "nbconvert_exporter": "python",
   "pygments_lexer": "ipython3",
   "version": "3.7.6"
  }
 },
 "nbformat": 4,
 "nbformat_minor": 5
}
