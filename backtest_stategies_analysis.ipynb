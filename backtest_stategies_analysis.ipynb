{
 "cells": [
  {
   "cell_type": "markdown",
   "id": "e55e45b1",
   "metadata": {},
   "source": [
    "## Analyzing the backtest results"
   ]
  },
  {
   "cell_type": "code",
   "execution_count": 17,
   "id": "7d73d724",
   "metadata": {},
   "outputs": [],
   "source": [
    "import logging\n",
    "import os\n",
    "import re\n",
    "from kiteconnect import KiteConnect\n",
    "from dotenv import load_dotenv\n",
    "load_dotenv()\n",
    "import bs_threading\n",
    "from matplotlib import pyplot\n",
    "import importlib\n",
    "import time\n",
    "from datetime import datetime, timedelta, timezone\n",
    "import dateutil\n",
    "import pandas as pd\n",
    "importlib.reload(bs_threading)\n",
    "from bs_threading import bs_threadify, bs_make_throttle_ready_func, bs_multiprocessify,f\n"
   ]
  },
  {
   "cell_type": "code",
   "execution_count": 18,
   "id": "52d92717",
   "metadata": {},
   "outputs": [],
   "source": [
    "# load all the stocks\n",
    "# we do it together to the final of the sytem skk\n",
    "\n",
    "INPUT_KITE_HISTORICAL_DIR = \"input/kite_historical\"\n",
    "INPUT_KITE_INSTRUMENTS_DIR = \"input/kite_instruments\"\n",
    "BACKTEST_DIR = \"output/bsstonks_backtest\""
   ]
  },
  {
   "cell_type": "code",
   "execution_count": 50,
   "id": "f267bc04",
   "metadata": {
    "scrolled": true
   },
   "outputs": [
    {
     "name": "stdout",
     "output_type": "stream",
     "text": [
      "ema_overlap_20_50_15min\n",
      "ema_overlap_20_50_day\n",
      "ema_overlap_5_100_15min\n",
      "ma_overlap_5_100_15min\n",
      "rsi_45_15minute\n",
      "rsi_45_15minute_from_2019\n",
      "rsi_45_day\n",
      "rsi_BNF_45_15minute_from_2019\n",
      "rsi_NIFTY50_45_15minute_from_2019\n"
     ]
    }
   ],
   "source": [
    "for backtest_strategy_dir in os.listdir(BACKTEST_DIR):\n",
    "    print(backtest_strategy_dir)"
   ]
  },
  {
   "cell_type": "code",
   "execution_count": 62,
   "id": "cd9e7a41",
   "metadata": {
    "scrolled": true
   },
   "outputs": [
    {
     "name": "stdout",
     "output_type": "stream",
     "text": [
      "---------------------\n",
      "256265_NIFTY 50_EQ_INDICES_NSE_15minute.csv\n",
      "2.0024132822834386\n",
      "---------------------\n",
      "268041_NIFTY 500_EQ_INDICES_NSE_15minute.csv\n",
      "1.7065187850894237\n"
     ]
    }
   ],
   "source": [
    "backtest_strategy_dir = \"rsi_NIFTY50_45_15minute_from_2019\"\n",
    "strategy_symbol_summary = []\n",
    "for backtest_symbol_file in os.listdir(os.path.join(BACKTEST_DIR,backtest_strategy_dir)):\n",
    "    print(\"---------------------\")\n",
    "    print(backtest_symbol_file)\n",
    "    df = pd.read_csv(os.path.join(BACKTEST_DIR, backtest_strategy_dir, backtest_symbol_file))\n",
    "    start_balance = df[df['buysell']=='sell'].iloc[0]['balance']\n",
    "    end_balance = df[df['buysell']=='sell'].iloc[-1]['balance']\n",
    "    pnl = (end_balance-100000)\n",
    "    pnl_multiplier = pnl/100000\n",
    "    print(pnl_multiplier)\n",
    "    start_date = dateutil.parser.parse(df['date'].iloc[0])\n",
    "    end_date = dateutil.parser.parse(df['date'].iloc[-1])\n",
    "    span_days = (end_date-start_date).days\n",
    "    \n",
    "    pnl_percentage_multiplier_per_year = (pnl_multiplier-1)*100/span_days*365\n",
    "    strategy_symbol_summary.append({\n",
    "        'symbol':backtest_symbol_file,\n",
    "        'p&l % per year': pnl_percentage_multiplier_per_year,\n",
    "        'p&l %':(pnl_multiplier-1)*100,\n",
    "        'p&l': pnl, \n",
    "        'trades': df.shape[0]/2\n",
    "    })\n",
    "#     print(\"100000\", start_balance, end_balance)\n",
    "#     print(\"P&L --> \", )\n"
   ]
  },
  {
   "cell_type": "code",
   "execution_count": 63,
   "id": "a6889ae5",
   "metadata": {},
   "outputs": [
    {
     "name": "stdout",
     "output_type": "stream",
     "text": [
      "Strategy: rsi_NIFTY50_45_15minute_from_2019\n",
      "Index(['symbol', 'p&l % per year', 'p&l %', 'p&l', 'trades'], dtype='object')\n"
     ]
    },
    {
     "data": {
      "text/html": [
       "<div>\n",
       "<style scoped>\n",
       "    .dataframe tbody tr th:only-of-type {\n",
       "        vertical-align: middle;\n",
       "    }\n",
       "\n",
       "    .dataframe tbody tr th {\n",
       "        vertical-align: top;\n",
       "    }\n",
       "\n",
       "    .dataframe thead th {\n",
       "        text-align: right;\n",
       "    }\n",
       "</style>\n",
       "<table border=\"1\" class=\"dataframe\">\n",
       "  <thead>\n",
       "    <tr style=\"text-align: right;\">\n",
       "      <th></th>\n",
       "      <th>symbol</th>\n",
       "      <th>p&amp;l % per year</th>\n",
       "      <th>p&amp;l %</th>\n",
       "      <th>p&amp;l</th>\n",
       "      <th>trades</th>\n",
       "    </tr>\n",
       "  </thead>\n",
       "  <tbody>\n",
       "    <tr>\n",
       "      <th>0</th>\n",
       "      <td>256265_NIFTY 50_EQ_INDICES_NSE_15minute.csv</td>\n",
       "      <td>40.743970</td>\n",
       "      <td>100.241328</td>\n",
       "      <td>200241.328228</td>\n",
       "      <td>614.5</td>\n",
       "    </tr>\n",
       "    <tr>\n",
       "      <th>1</th>\n",
       "      <td>268041_NIFTY 500_EQ_INDICES_NSE_15minute.csv</td>\n",
       "      <td>35.966437</td>\n",
       "      <td>70.651879</td>\n",
       "      <td>170651.878509</td>\n",
       "      <td>454.5</td>\n",
       "    </tr>\n",
       "  </tbody>\n",
       "</table>\n",
       "</div>"
      ],
      "text/plain": [
       "                                         symbol  p&l % per year       p&l %  \\\n",
       "0   256265_NIFTY 50_EQ_INDICES_NSE_15minute.csv       40.743970  100.241328   \n",
       "1  268041_NIFTY 500_EQ_INDICES_NSE_15minute.csv       35.966437   70.651879   \n",
       "\n",
       "             p&l  trades  \n",
       "0  200241.328228   614.5  \n",
       "1  170651.878509   454.5  "
      ]
     },
     "execution_count": 63,
     "metadata": {},
     "output_type": "execute_result"
    }
   ],
   "source": [
    "print(\"Strategy:\", backtest_strategy_dir)\n",
    "df_symbol_summary = pd.DataFrame(strategy_symbol_summary)\n",
    "print(df_symbol_summary.columns)\n",
    "df_symbol_summary.sort_values(by=[\"p&l % per year\"], ascending=False).head(50)\n"
   ]
  },
  {
   "cell_type": "code",
   "execution_count": 64,
   "id": "73abefe5",
   "metadata": {
    "scrolled": false
   },
   "outputs": [
    {
     "name": "stdout",
     "output_type": "stream",
     "text": [
      "---------------------\n",
      "256265_NIFTY 50_EQ_INDICES_NSE_15minute.csv\n",
      "losses (277,)\n",
      "profit (335,)\n"
     ]
    },
    {
     "data": {
      "image/png": "[encoded data removed]",
      "text/plain": [
       "<Figure size 432x288 with 1 Axes>"
      ]
     },
     "metadata": {
      "needs_background": "light"
     },
     "output_type": "display_data"
    },
    {
     "name": "stdout",
     "output_type": "stream",
     "text": [
      "---------------------\n",
      "268041_NIFTY 500_EQ_INDICES_NSE_15minute.csv\n",
      "losses (196,)\n",
      "profit (256,)\n"
     ]
    },
    {
     "data": {
      "image/png": "[encoded data removed]",
      "text/plain": [
       "<Figure size 432x288 with 1 Axes>"
      ]
     },
     "metadata": {
      "needs_background": "light"
     },
     "output_type": "display_data"
    }
   ],
   "source": [
    "top_profits = df_symbol_summary.sort_values(by=[\"p&l % per year\"], ascending=False).head(40)['symbol'].values\n",
    "for backtest_symbol_file in os.listdir(os.path.join(BACKTEST_DIR,backtest_strategy_dir)):\n",
    "    \n",
    "    \n",
    "    if backtest_symbol_file not in top_profits:\n",
    "        continue\n",
    "    print(\"---------------------\")\n",
    "    print(backtest_symbol_file)\n",
    "    df = pd.read_csv(os.path.join(BACKTEST_DIR, backtest_strategy_dir, backtest_symbol_file), index_col=\"date\", parse_dates=True, date_parser=dateutil.parser.parse)\n",
    "#     df.index_col = 0\n",
    "#     df.date.astype(\"datetime\")\n",
    "    df[df['buysell']=='sell']['balance'].plot()\n",
    "    \n",
    "    porl = df[df['buysell']=='sell']['balance'].diff()\n",
    "    print(\"losses\", porl[porl<0].shape)\n",
    "    print(\"profit\", porl[porl>0].shape)\n",
    "    pyplot.show()"
   ]
  },
  {
   "cell_type": "code",
   "execution_count": 44,
   "id": "81f827f3",
   "metadata": {},
   "outputs": [
    {
     "data": {
      "text/plain": [
       "date\n",
       "2019-07-05 11:15:00+05:30             NaN\n",
       "2019-07-05 12:45:00+05:30      255.232606\n",
       "2019-07-09 12:15:00+05:30       81.889052\n",
       "2019-07-09 13:15:00+05:30       80.968953\n",
       "2019-07-09 13:45:00+05:30       53.659333\n",
       "                                 ...     \n",
       "2021-06-14 09:15:00+05:30    11025.935704\n",
       "2021-06-16 09:45:00+05:30    24464.344755\n",
       "2021-06-16 15:00:00+05:30      783.508915\n",
       "2021-06-18 09:30:00+05:30     6306.682935\n",
       "2021-06-18 12:45:00+05:30     5536.272729\n",
       "Name: balance, Length: 454, dtype: float64"
      ]
     },
     "execution_count": 44,
     "metadata": {},
     "output_type": "execute_result"
    }
   ],
   "source": [
    "porl"
   ]
  },
  {
   "cell_type": "code",
   "execution_count": null,
   "id": "5835670c",
   "metadata": {},
   "outputs": [],
   "source": []
  }
 ],
 "metadata": {
  "kernelspec": {
   "display_name": "Python 3",
   "language": "python",
   "name": "python3"
  },
  "language_info": {
   "codemirror_mode": {
    "name": "ipython",
    "version": 3
   },
   "file_extension": ".py",
   "mimetype": "text/x-python",
   "name": "python",
   "nbconvert_exporter": "python",
   "pygments_lexer": "ipython3",
   "version": "3.7.6"
  }
 },
 "nbformat": 4,
 "nbformat_minor": 5
}
